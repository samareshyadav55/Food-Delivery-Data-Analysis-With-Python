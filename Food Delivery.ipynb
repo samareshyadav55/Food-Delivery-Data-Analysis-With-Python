{
 "cells": [
  {
   "cell_type": "code",
   "execution_count": 1,
   "metadata": {},
   "outputs": [
    {
     "data": {
      "text/html": [
       "<div>\n",
       "<style scoped>\n",
       "    .dataframe tbody tr th:only-of-type {\n",
       "        vertical-align: middle;\n",
       "    }\n",
       "\n",
       "    .dataframe tbody tr th {\n",
       "        vertical-align: top;\n",
       "    }\n",
       "\n",
       "    .dataframe thead th {\n",
       "        text-align: right;\n",
       "    }\n",
       "</style>\n",
       "<table border=\"1\" class=\"dataframe\">\n",
       "  <thead>\n",
       "    <tr style=\"text-align: right;\">\n",
       "      <th></th>\n",
       "      <th>user_code</th>\n",
       "      <th>date</th>\n",
       "      <th>company</th>\n",
       "      <th>restaurant</th>\n",
       "      <th>price_paid</th>\n",
       "      <th>delivery_charge</th>\n",
       "      <th>packing_charge</th>\n",
       "      <th>district</th>\n",
       "      <th>state</th>\n",
       "      <th>zone</th>\n",
       "    </tr>\n",
       "  </thead>\n",
       "  <tbody>\n",
       "    <tr>\n",
       "      <th>0</th>\n",
       "      <td>227</td>\n",
       "      <td>01-01-2019</td>\n",
       "      <td>alpha</td>\n",
       "      <td>Burger Spot</td>\n",
       "      <td>125.0</td>\n",
       "      <td>0.0</td>\n",
       "      <td>10.0</td>\n",
       "      <td>Ernakulam</td>\n",
       "      <td>KERALA</td>\n",
       "      <td>SOUTH</td>\n",
       "    </tr>\n",
       "    <tr>\n",
       "      <th>1</th>\n",
       "      <td>297</td>\n",
       "      <td>01-01-2019</td>\n",
       "      <td>alpha</td>\n",
       "      <td>Cafe Coffee Day</td>\n",
       "      <td>192.0</td>\n",
       "      <td>0.0</td>\n",
       "      <td>10.0</td>\n",
       "      <td>Bangalore</td>\n",
       "      <td>KARNATAKA</td>\n",
       "      <td>SOUTH</td>\n",
       "    </tr>\n",
       "    <tr>\n",
       "      <th>2</th>\n",
       "      <td>297</td>\n",
       "      <td>01-01-2019</td>\n",
       "      <td>alpha</td>\n",
       "      <td>Malini's Health Kitchen</td>\n",
       "      <td>65.0</td>\n",
       "      <td>0.0</td>\n",
       "      <td>0.0</td>\n",
       "      <td>Bangalore</td>\n",
       "      <td>KARNATAKA</td>\n",
       "      <td>SOUTH</td>\n",
       "    </tr>\n",
       "    <tr>\n",
       "      <th>3</th>\n",
       "      <td>394</td>\n",
       "      <td>01-01-2019</td>\n",
       "      <td>alpha</td>\n",
       "      <td>The Bowl Company</td>\n",
       "      <td>292.0</td>\n",
       "      <td>0.0</td>\n",
       "      <td>19.0</td>\n",
       "      <td>Bangalore</td>\n",
       "      <td>KARNATAKA</td>\n",
       "      <td>SOUTH</td>\n",
       "    </tr>\n",
       "    <tr>\n",
       "      <th>4</th>\n",
       "      <td>420</td>\n",
       "      <td>01-01-2019</td>\n",
       "      <td>alpha</td>\n",
       "      <td>Podi Idly</td>\n",
       "      <td>101.0</td>\n",
       "      <td>0.0</td>\n",
       "      <td>10.0</td>\n",
       "      <td>Bangalore</td>\n",
       "      <td>KARNATAKA</td>\n",
       "      <td>SOUTH</td>\n",
       "    </tr>\n",
       "  </tbody>\n",
       "</table>\n",
       "</div>"
      ],
      "text/plain": [
       "   user_code        date company               restaurant  price_paid  \\\n",
       "0        227  01-01-2019   alpha              Burger Spot       125.0   \n",
       "1        297  01-01-2019   alpha          Cafe Coffee Day       192.0   \n",
       "2        297  01-01-2019   alpha  Malini's Health Kitchen        65.0   \n",
       "3        394  01-01-2019   alpha         The Bowl Company       292.0   \n",
       "4        420  01-01-2019   alpha                Podi Idly       101.0   \n",
       "\n",
       "   delivery_charge  packing_charge   district      state   zone  \n",
       "0              0.0            10.0  Ernakulam     KERALA  SOUTH  \n",
       "1              0.0            10.0  Bangalore  KARNATAKA  SOUTH  \n",
       "2              0.0             0.0  Bangalore  KARNATAKA  SOUTH  \n",
       "3              0.0            19.0  Bangalore  KARNATAKA  SOUTH  \n",
       "4              0.0            10.0  Bangalore  KARNATAKA  SOUTH  "
      ]
     },
     "execution_count": 1,
     "metadata": {},
     "output_type": "execute_result"
    }
   ],
   "source": [
    "import pandas as pd\n",
    "df=pd.read_csv('C:/Users/samaresh yadav/Downloads/food_delivery.csv')\n",
    "df[:5]"
   ]
  },
  {
   "cell_type": "code",
   "execution_count": 5,
   "metadata": {},
   "outputs": [
    {
     "data": {
      "text/html": [
       "<div>\n",
       "<style scoped>\n",
       "    .dataframe tbody tr th:only-of-type {\n",
       "        vertical-align: middle;\n",
       "    }\n",
       "\n",
       "    .dataframe tbody tr th {\n",
       "        vertical-align: top;\n",
       "    }\n",
       "\n",
       "    .dataframe thead th {\n",
       "        text-align: right;\n",
       "    }\n",
       "</style>\n",
       "<table border=\"1\" class=\"dataframe\">\n",
       "  <thead>\n",
       "    <tr style=\"text-align: right;\">\n",
       "      <th></th>\n",
       "      <th>user_code</th>\n",
       "      <th>price_paid</th>\n",
       "      <th>delivery_charge</th>\n",
       "      <th>packing_charge</th>\n",
       "    </tr>\n",
       "  </thead>\n",
       "  <tbody>\n",
       "    <tr>\n",
       "      <th>count</th>\n",
       "      <td>34576.000000</td>\n",
       "      <td>34576.000000</td>\n",
       "      <td>34576.000000</td>\n",
       "      <td>34576.000000</td>\n",
       "    </tr>\n",
       "    <tr>\n",
       "      <th>mean</th>\n",
       "      <td>37080.601255</td>\n",
       "      <td>181.340701</td>\n",
       "      <td>4.229096</td>\n",
       "      <td>3.039987</td>\n",
       "    </tr>\n",
       "    <tr>\n",
       "      <th>std</th>\n",
       "      <td>28273.252080</td>\n",
       "      <td>183.469593</td>\n",
       "      <td>9.049135</td>\n",
       "      <td>8.202225</td>\n",
       "    </tr>\n",
       "    <tr>\n",
       "      <th>min</th>\n",
       "      <td>51.000000</td>\n",
       "      <td>0.300000</td>\n",
       "      <td>0.000000</td>\n",
       "      <td>0.000000</td>\n",
       "    </tr>\n",
       "    <tr>\n",
       "      <th>25%</th>\n",
       "      <td>8352.000000</td>\n",
       "      <td>88.000000</td>\n",
       "      <td>0.000000</td>\n",
       "      <td>0.000000</td>\n",
       "    </tr>\n",
       "    <tr>\n",
       "      <th>50%</th>\n",
       "      <td>36125.000000</td>\n",
       "      <td>125.000000</td>\n",
       "      <td>0.000000</td>\n",
       "      <td>0.000000</td>\n",
       "    </tr>\n",
       "    <tr>\n",
       "      <th>75%</th>\n",
       "      <td>68693.000000</td>\n",
       "      <td>207.400000</td>\n",
       "      <td>0.000000</td>\n",
       "      <td>0.000000</td>\n",
       "    </tr>\n",
       "    <tr>\n",
       "      <th>max</th>\n",
       "      <td>80418.000000</td>\n",
       "      <td>4168.000000</td>\n",
       "      <td>100.000000</td>\n",
       "      <td>372.150000</td>\n",
       "    </tr>\n",
       "  </tbody>\n",
       "</table>\n",
       "</div>"
      ],
      "text/plain": [
       "          user_code    price_paid  delivery_charge  packing_charge\n",
       "count  34576.000000  34576.000000     34576.000000    34576.000000\n",
       "mean   37080.601255    181.340701         4.229096        3.039987\n",
       "std    28273.252080    183.469593         9.049135        8.202225\n",
       "min       51.000000      0.300000         0.000000        0.000000\n",
       "25%     8352.000000     88.000000         0.000000        0.000000\n",
       "50%    36125.000000    125.000000         0.000000        0.000000\n",
       "75%    68693.000000    207.400000         0.000000        0.000000\n",
       "max    80418.000000   4168.000000       100.000000      372.150000"
      ]
     },
     "execution_count": 5,
     "metadata": {},
     "output_type": "execute_result"
    }
   ],
   "source": [
    "#describe method will useful for get summary statistics.\n",
    "df.describe()"
   ]
  },
  {
   "cell_type": "code",
   "execution_count": 6,
   "metadata": {},
   "outputs": [
    {
     "name": "stdout",
     "output_type": "stream",
     "text": [
      "<class 'pandas.core.frame.DataFrame'>\n",
      "RangeIndex: 34576 entries, 0 to 34575\n",
      "Data columns (total 10 columns):\n",
      "user_code          34576 non-null int64\n",
      "date               34576 non-null object\n",
      "company            34576 non-null object\n",
      "restaurant         34576 non-null object\n",
      "price_paid         34576 non-null float64\n",
      "delivery_charge    34576 non-null float64\n",
      "packing_charge     34576 non-null float64\n",
      "district           34576 non-null object\n",
      "state              34576 non-null object\n",
      "zone               34576 non-null object\n",
      "dtypes: float64(3), int64(1), object(6)\n",
      "memory usage: 2.6+ MB\n"
     ]
    }
   ],
   "source": [
    "df.info()"
   ]
  },
  {
   "cell_type": "markdown",
   "metadata": {},
   "source": [
    "we can also see data types by using .dtypes"
   ]
  },
  {
   "cell_type": "code",
   "execution_count": 10,
   "metadata": {},
   "outputs": [
    {
     "data": {
      "text/plain": [
       "user_code            int64\n",
       "date                object\n",
       "company             object\n",
       "restaurant          object\n",
       "price_paid         float64\n",
       "delivery_charge    float64\n",
       "packing_charge     float64\n",
       "district            object\n",
       "state               object\n",
       "zone                object\n",
       "dtype: object"
      ]
     },
     "execution_count": 10,
     "metadata": {},
     "output_type": "execute_result"
    }
   ],
   "source": [
    "df.dtypes"
   ]
  },
  {
   "cell_type": "markdown",
   "metadata": {},
   "source": [
    "Using Value counts we can say how many catogorical values are present in each column "
   ]
  },
  {
   "cell_type": "code",
   "execution_count": 12,
   "metadata": {},
   "outputs": [
    {
     "data": {
      "text/plain": [
       "Burger King                                        351\n",
       "Domino's Pizza                                     283\n",
       "Subway                                             280\n",
       "McDonald's                                         188\n",
       "The Bowl Company                                   183\n",
       "homely                                             162\n",
       "Faasos                                             144\n",
       "FreshMenu                                          137\n",
       "Vasudev Adigas                                     121\n",
       "KFC                                                114\n",
       "Bawarchi                                           107\n",
       "Pizza Hut                                           96\n",
       "Cream Stone                                         92\n",
       "Truffles                                            89\n",
       "Cafe Bahar - Since 1973                             85\n",
       "NIC Natural Ice Cream                               82\n",
       "LunchBox                                            76\n",
       "Ghuma Ghumalu - Navallur                            76\n",
       "Cafe Istaa                                          75\n",
       "A2B Veg                                             75\n",
       "Behrouz Biryani                                     73\n",
       "London Grill Co                                     72\n",
       "KS Bakers                                           72\n",
       "Lassi Shop                                          72\n",
       "Shree A0dhaas                                       70\n",
       "Natural Ice Cream                                   69\n",
       "Paradise Biryani                                    68\n",
       "Hotel Empire                                        67\n",
       "Zaitoon                                             67\n",
       "Mio Amore                                           64\n",
       "                                                  ... \n",
       "Hotel Vaishali                                       1\n",
       "Hot Pot Restaurant                                   1\n",
       "Foodelicious                                         1\n",
       "Gopal's                                              1\n",
       "Jonty Fast Food                                      1\n",
       "Ashok Family Garden Restaurant                       1\n",
       "D Win Dragon - Gariahat                              1\n",
       "Srinidhi Sagar                                       1\n",
       "Hai's                                                1\n",
       "Food Culture                                         1\n",
       "Paratha & More                                       1\n",
       "The GroundBaking Co                                  1\n",
       "Railway Yard                                         1\n",
       "The Bombay Sultaani Biryani House - Andheri          1\n",
       "Homemade Food                                        1\n",
       "Kitchens Kerala Family Restaurant                    1\n",
       "Ratna Bawarchi                                       1\n",
       "Hyderabad Dum Biryani                                1\n",
       "N Y Pizza                                            1\n",
       "Hotel Swad                                           1\n",
       "Burger Forever                                       1\n",
       "Red Bubble Cafe                                      1\n",
       "Grill & Barbecue Multicuisine Family Restaurant      1\n",
       "Le Cakery                                            1\n",
       "Kalyan Thali and punjabi restaurant                  1\n",
       "Hawker - Malaysian Parrotta                          1\n",
       "Grihasthi Sweets                                     1\n",
       "Chai Point - SS plaza                                1\n",
       "New Dileep Biryani                                   1\n",
       "A1 Hotel                                             1\n",
       "Name: restaurant, Length: 11150, dtype: int64"
      ]
     },
     "execution_count": 12,
     "metadata": {},
     "output_type": "execute_result"
    }
   ],
   "source": [
    "df.restaurant.value_counts()"
   ]
  },
  {
   "cell_type": "markdown",
   "metadata": {},
   "source": [
    "Converting Date Column to Datetime object "
   ]
  },
  {
   "cell_type": "code",
   "execution_count": 20,
   "metadata": {},
   "outputs": [],
   "source": [
    "from datetime import datetime\n",
    "df['date']=df['date'].apply(lambda x: datetime.strptime(x, '%d-%m-%Y'))"
   ]
  },
  {
   "cell_type": "code",
   "execution_count": 21,
   "metadata": {},
   "outputs": [
    {
     "data": {
      "text/plain": [
       "user_code                   int64\n",
       "date               datetime64[ns]\n",
       "company                    object\n",
       "restaurant                 object\n",
       "price_paid                float64\n",
       "delivery_charge           float64\n",
       "packing_charge            float64\n",
       "district                   object\n",
       "state                      object\n",
       "zone                       object\n",
       "dtype: object"
      ]
     },
     "execution_count": 21,
     "metadata": {},
     "output_type": "execute_result"
    }
   ],
   "source": [
    "#checking weather it is converted to datetime column or not\n",
    "df.dtypes"
   ]
  },
  {
   "cell_type": "markdown",
   "metadata": {},
   "source": [
    "SPLITTING THE DATA INTO ALPHA,BETA,GAMMA"
   ]
  },
  {
   "cell_type": "code",
   "execution_count": 22,
   "metadata": {},
   "outputs": [],
   "source": [
    "grouped=df.groupby('company')\n",
    "alpha_data=grouped.get_group('alpha')"
   ]
  },
  {
   "cell_type": "code",
   "execution_count": 23,
   "metadata": {},
   "outputs": [
    {
     "data": {
      "text/html": [
       "<div>\n",
       "<style scoped>\n",
       "    .dataframe tbody tr th:only-of-type {\n",
       "        vertical-align: middle;\n",
       "    }\n",
       "\n",
       "    .dataframe tbody tr th {\n",
       "        vertical-align: top;\n",
       "    }\n",
       "\n",
       "    .dataframe thead th {\n",
       "        text-align: right;\n",
       "    }\n",
       "</style>\n",
       "<table border=\"1\" class=\"dataframe\">\n",
       "  <thead>\n",
       "    <tr style=\"text-align: right;\">\n",
       "      <th></th>\n",
       "      <th>user_code</th>\n",
       "      <th>date</th>\n",
       "      <th>company</th>\n",
       "      <th>restaurant</th>\n",
       "      <th>price_paid</th>\n",
       "      <th>delivery_charge</th>\n",
       "      <th>packing_charge</th>\n",
       "      <th>district</th>\n",
       "      <th>state</th>\n",
       "      <th>zone</th>\n",
       "    </tr>\n",
       "  </thead>\n",
       "  <tbody>\n",
       "    <tr>\n",
       "      <th>0</th>\n",
       "      <td>227</td>\n",
       "      <td>2019-01-01</td>\n",
       "      <td>alpha</td>\n",
       "      <td>Burger Spot</td>\n",
       "      <td>125.0</td>\n",
       "      <td>0.0</td>\n",
       "      <td>10.0</td>\n",
       "      <td>Ernakulam</td>\n",
       "      <td>KERALA</td>\n",
       "      <td>SOUTH</td>\n",
       "    </tr>\n",
       "    <tr>\n",
       "      <th>1</th>\n",
       "      <td>297</td>\n",
       "      <td>2019-01-01</td>\n",
       "      <td>alpha</td>\n",
       "      <td>Cafe Coffee Day</td>\n",
       "      <td>192.0</td>\n",
       "      <td>0.0</td>\n",
       "      <td>10.0</td>\n",
       "      <td>Bangalore</td>\n",
       "      <td>KARNATAKA</td>\n",
       "      <td>SOUTH</td>\n",
       "    </tr>\n",
       "    <tr>\n",
       "      <th>2</th>\n",
       "      <td>297</td>\n",
       "      <td>2019-01-01</td>\n",
       "      <td>alpha</td>\n",
       "      <td>Malini's Health Kitchen</td>\n",
       "      <td>65.0</td>\n",
       "      <td>0.0</td>\n",
       "      <td>0.0</td>\n",
       "      <td>Bangalore</td>\n",
       "      <td>KARNATAKA</td>\n",
       "      <td>SOUTH</td>\n",
       "    </tr>\n",
       "    <tr>\n",
       "      <th>3</th>\n",
       "      <td>394</td>\n",
       "      <td>2019-01-01</td>\n",
       "      <td>alpha</td>\n",
       "      <td>The Bowl Company</td>\n",
       "      <td>292.0</td>\n",
       "      <td>0.0</td>\n",
       "      <td>19.0</td>\n",
       "      <td>Bangalore</td>\n",
       "      <td>KARNATAKA</td>\n",
       "      <td>SOUTH</td>\n",
       "    </tr>\n",
       "    <tr>\n",
       "      <th>4</th>\n",
       "      <td>420</td>\n",
       "      <td>2019-01-01</td>\n",
       "      <td>alpha</td>\n",
       "      <td>Podi Idly</td>\n",
       "      <td>101.0</td>\n",
       "      <td>0.0</td>\n",
       "      <td>10.0</td>\n",
       "      <td>Bangalore</td>\n",
       "      <td>KARNATAKA</td>\n",
       "      <td>SOUTH</td>\n",
       "    </tr>\n",
       "  </tbody>\n",
       "</table>\n",
       "</div>"
      ],
      "text/plain": [
       "   user_code       date company               restaurant  price_paid  \\\n",
       "0        227 2019-01-01   alpha              Burger Spot       125.0   \n",
       "1        297 2019-01-01   alpha          Cafe Coffee Day       192.0   \n",
       "2        297 2019-01-01   alpha  Malini's Health Kitchen        65.0   \n",
       "3        394 2019-01-01   alpha         The Bowl Company       292.0   \n",
       "4        420 2019-01-01   alpha                Podi Idly       101.0   \n",
       "\n",
       "   delivery_charge  packing_charge   district      state   zone  \n",
       "0              0.0            10.0  Ernakulam     KERALA  SOUTH  \n",
       "1              0.0            10.0  Bangalore  KARNATAKA  SOUTH  \n",
       "2              0.0             0.0  Bangalore  KARNATAKA  SOUTH  \n",
       "3              0.0            19.0  Bangalore  KARNATAKA  SOUTH  \n",
       "4              0.0            10.0  Bangalore  KARNATAKA  SOUTH  "
      ]
     },
     "execution_count": 23,
     "metadata": {},
     "output_type": "execute_result"
    }
   ],
   "source": [
    "alpha_data[:5]"
   ]
  },
  {
   "cell_type": "code",
   "execution_count": 24,
   "metadata": {},
   "outputs": [
    {
     "data": {
      "text/html": [
       "<div>\n",
       "<style scoped>\n",
       "    .dataframe tbody tr th:only-of-type {\n",
       "        vertical-align: middle;\n",
       "    }\n",
       "\n",
       "    .dataframe tbody tr th {\n",
       "        vertical-align: top;\n",
       "    }\n",
       "\n",
       "    .dataframe thead th {\n",
       "        text-align: right;\n",
       "    }\n",
       "</style>\n",
       "<table border=\"1\" class=\"dataframe\">\n",
       "  <thead>\n",
       "    <tr style=\"text-align: right;\">\n",
       "      <th></th>\n",
       "      <th>user_code</th>\n",
       "      <th>date</th>\n",
       "      <th>company</th>\n",
       "      <th>restaurant</th>\n",
       "      <th>price_paid</th>\n",
       "      <th>delivery_charge</th>\n",
       "      <th>packing_charge</th>\n",
       "      <th>district</th>\n",
       "      <th>state</th>\n",
       "      <th>zone</th>\n",
       "    </tr>\n",
       "  </thead>\n",
       "  <tbody>\n",
       "    <tr>\n",
       "      <th>134</th>\n",
       "      <td>122</td>\n",
       "      <td>2019-01-01</td>\n",
       "      <td>beta</td>\n",
       "      <td>Yaa Mohaideen Briyani - Pallavaram</td>\n",
       "      <td>680.00</td>\n",
       "      <td>0.0</td>\n",
       "      <td>0.0</td>\n",
       "      <td>Kanchipuram</td>\n",
       "      <td>TAMIL NADU</td>\n",
       "      <td>SOUTH</td>\n",
       "    </tr>\n",
       "    <tr>\n",
       "      <th>135</th>\n",
       "      <td>603</td>\n",
       "      <td>2019-01-01</td>\n",
       "      <td>beta</td>\n",
       "      <td>Mayura Grand Pure Veg Restaurant</td>\n",
       "      <td>98.00</td>\n",
       "      <td>0.0</td>\n",
       "      <td>0.0</td>\n",
       "      <td>Bangalore</td>\n",
       "      <td>KARNATAKA</td>\n",
       "      <td>SOUTH</td>\n",
       "    </tr>\n",
       "    <tr>\n",
       "      <th>136</th>\n",
       "      <td>805</td>\n",
       "      <td>2019-01-01</td>\n",
       "      <td>beta</td>\n",
       "      <td>Bahar Biryani Cafe - Lbnagar</td>\n",
       "      <td>33.87</td>\n",
       "      <td>0.0</td>\n",
       "      <td>0.0</td>\n",
       "      <td>K.V.Rangareddy</td>\n",
       "      <td>ANDHRA PRADESH</td>\n",
       "      <td>SOUTH</td>\n",
       "    </tr>\n",
       "    <tr>\n",
       "      <th>137</th>\n",
       "      <td>2615</td>\n",
       "      <td>2019-01-01</td>\n",
       "      <td>beta</td>\n",
       "      <td>Rolls Hut</td>\n",
       "      <td>49.00</td>\n",
       "      <td>0.0</td>\n",
       "      <td>0.0</td>\n",
       "      <td>Central Delhi</td>\n",
       "      <td>DELHI</td>\n",
       "      <td>NORTH</td>\n",
       "    </tr>\n",
       "    <tr>\n",
       "      <th>138</th>\n",
       "      <td>2615</td>\n",
       "      <td>2019-01-01</td>\n",
       "      <td>beta</td>\n",
       "      <td>Rolls Hut</td>\n",
       "      <td>49.00</td>\n",
       "      <td>0.0</td>\n",
       "      <td>0.0</td>\n",
       "      <td>Central Delhi</td>\n",
       "      <td>DELHI</td>\n",
       "      <td>NORTH</td>\n",
       "    </tr>\n",
       "  </tbody>\n",
       "</table>\n",
       "</div>"
      ],
      "text/plain": [
       "     user_code       date company                          restaurant  \\\n",
       "134        122 2019-01-01    beta  Yaa Mohaideen Briyani - Pallavaram   \n",
       "135        603 2019-01-01    beta    Mayura Grand Pure Veg Restaurant   \n",
       "136        805 2019-01-01    beta        Bahar Biryani Cafe - Lbnagar   \n",
       "137       2615 2019-01-01    beta                           Rolls Hut   \n",
       "138       2615 2019-01-01    beta                           Rolls Hut   \n",
       "\n",
       "     price_paid  delivery_charge  packing_charge        district  \\\n",
       "134      680.00              0.0             0.0     Kanchipuram   \n",
       "135       98.00              0.0             0.0       Bangalore   \n",
       "136       33.87              0.0             0.0  K.V.Rangareddy   \n",
       "137       49.00              0.0             0.0   Central Delhi   \n",
       "138       49.00              0.0             0.0   Central Delhi   \n",
       "\n",
       "              state   zone  \n",
       "134      TAMIL NADU  SOUTH  \n",
       "135       KARNATAKA  SOUTH  \n",
       "136  ANDHRA PRADESH  SOUTH  \n",
       "137           DELHI  NORTH  \n",
       "138           DELHI  NORTH  "
      ]
     },
     "execution_count": 24,
     "metadata": {},
     "output_type": "execute_result"
    }
   ],
   "source": [
    "beta_data=grouped.get_group('beta')\n",
    "beta_data[:5]"
   ]
  },
  {
   "cell_type": "code",
   "execution_count": 25,
   "metadata": {},
   "outputs": [
    {
     "data": {
      "text/html": [
       "<div>\n",
       "<style scoped>\n",
       "    .dataframe tbody tr th:only-of-type {\n",
       "        vertical-align: middle;\n",
       "    }\n",
       "\n",
       "    .dataframe tbody tr th {\n",
       "        vertical-align: top;\n",
       "    }\n",
       "\n",
       "    .dataframe thead th {\n",
       "        text-align: right;\n",
       "    }\n",
       "</style>\n",
       "<table border=\"1\" class=\"dataframe\">\n",
       "  <thead>\n",
       "    <tr style=\"text-align: right;\">\n",
       "      <th></th>\n",
       "      <th>user_code</th>\n",
       "      <th>date</th>\n",
       "      <th>company</th>\n",
       "      <th>restaurant</th>\n",
       "      <th>price_paid</th>\n",
       "      <th>delivery_charge</th>\n",
       "      <th>packing_charge</th>\n",
       "      <th>district</th>\n",
       "      <th>state</th>\n",
       "      <th>zone</th>\n",
       "    </tr>\n",
       "  </thead>\n",
       "  <tbody>\n",
       "    <tr>\n",
       "      <th>178</th>\n",
       "      <td>2714</td>\n",
       "      <td>2019-01-01</td>\n",
       "      <td>gamma</td>\n",
       "      <td>Winner Pop Corn</td>\n",
       "      <td>80.00</td>\n",
       "      <td>10.0</td>\n",
       "      <td>0.0</td>\n",
       "      <td>Thane</td>\n",
       "      <td>MAHARASHTRA</td>\n",
       "      <td>WEST</td>\n",
       "    </tr>\n",
       "    <tr>\n",
       "      <th>179</th>\n",
       "      <td>3907</td>\n",
       "      <td>2019-01-01</td>\n",
       "      <td>gamma</td>\n",
       "      <td>Mama Bhanja Corner</td>\n",
       "      <td>204.00</td>\n",
       "      <td>10.0</td>\n",
       "      <td>0.0</td>\n",
       "      <td>West Delhi</td>\n",
       "      <td>DELHI</td>\n",
       "      <td>NORTH</td>\n",
       "    </tr>\n",
       "    <tr>\n",
       "      <th>180</th>\n",
       "      <td>24237</td>\n",
       "      <td>2019-01-01</td>\n",
       "      <td>gamma</td>\n",
       "      <td>China Town</td>\n",
       "      <td>99.00</td>\n",
       "      <td>0.0</td>\n",
       "      <td>0.0</td>\n",
       "      <td>North West Delhi</td>\n",
       "      <td>DELHI</td>\n",
       "      <td>NORTH</td>\n",
       "    </tr>\n",
       "    <tr>\n",
       "      <th>181</th>\n",
       "      <td>63097</td>\n",
       "      <td>2019-01-01</td>\n",
       "      <td>gamma</td>\n",
       "      <td>Haldiram</td>\n",
       "      <td>51.25</td>\n",
       "      <td>10.0</td>\n",
       "      <td>0.0</td>\n",
       "      <td>Patna</td>\n",
       "      <td>BIHAR</td>\n",
       "      <td>EAST</td>\n",
       "    </tr>\n",
       "    <tr>\n",
       "      <th>363</th>\n",
       "      <td>538</td>\n",
       "      <td>2019-01-02</td>\n",
       "      <td>gamma</td>\n",
       "      <td>Chai Point</td>\n",
       "      <td>183.00</td>\n",
       "      <td>0.0</td>\n",
       "      <td>0.0</td>\n",
       "      <td>Bangalore</td>\n",
       "      <td>KARNATAKA</td>\n",
       "      <td>SOUTH</td>\n",
       "    </tr>\n",
       "  </tbody>\n",
       "</table>\n",
       "</div>"
      ],
      "text/plain": [
       "     user_code       date company          restaurant  price_paid  \\\n",
       "178       2714 2019-01-01   gamma     Winner Pop Corn       80.00   \n",
       "179       3907 2019-01-01   gamma  Mama Bhanja Corner      204.00   \n",
       "180      24237 2019-01-01   gamma          China Town       99.00   \n",
       "181      63097 2019-01-01   gamma            Haldiram       51.25   \n",
       "363        538 2019-01-02   gamma          Chai Point      183.00   \n",
       "\n",
       "     delivery_charge  packing_charge          district        state   zone  \n",
       "178             10.0             0.0             Thane  MAHARASHTRA   WEST  \n",
       "179             10.0             0.0        West Delhi        DELHI  NORTH  \n",
       "180              0.0             0.0  North West Delhi        DELHI  NORTH  \n",
       "181             10.0             0.0             Patna        BIHAR   EAST  \n",
       "363              0.0             0.0         Bangalore    KARNATAKA  SOUTH  "
      ]
     },
     "execution_count": 25,
     "metadata": {},
     "output_type": "execute_result"
    }
   ],
   "source": [
    "gamma_data=grouped.get_group('gamma')\n",
    "gamma_data[:5]"
   ]
  },
  {
   "cell_type": "markdown",
   "metadata": {},
   "source": [
    "Calculating the Total Price,Delivery_charge,Packing_charge of Alpha, Beta, Gamma"
   ]
  },
  {
   "cell_type": "code",
   "execution_count": 27,
   "metadata": {},
   "outputs": [
    {
     "name": "stdout",
     "output_type": "stream",
     "text": [
      "alpha's total price is 4841740.0\n",
      "beta's total price is 1104180.4\n",
      "gamma's total price is 324115.67000000004\n"
     ]
    }
   ],
   "source": [
    "print(\"alpha's total price is\",alpha_data.price_paid.sum())\n",
    "print(\"beta's total price is\",beta_data.price_paid.sum())\n",
    "print(\"gamma's total price is\",gamma_data.price_paid.sum())\n"
   ]
  },
  {
   "cell_type": "code",
   "execution_count": 28,
   "metadata": {},
   "outputs": [
    {
     "name": "stdout",
     "output_type": "stream",
     "text": [
      "alpha's total delivery_charge is 120010.0\n",
      "beta's total delivery_charge is 3176.55\n",
      "gamma's total delivery_charge is 23038.68\n"
     ]
    }
   ],
   "source": [
    "print(\"alpha's total delivery_charge is\",alpha_data.delivery_charge.sum())\n",
    "print(\"beta's total delivery_charge is\",beta_data.delivery_charge.sum() )\n",
    "print(\"gamma's total delivery_charge is\",gamma_data.delivery_charge.sum())"
   ]
  },
  {
   "cell_type": "code",
   "execution_count": 29,
   "metadata": {},
   "outputs": [
    {
     "name": "stdout",
     "output_type": "stream",
     "text": [
      "alpha's total packing_charge is 98825.97\n",
      "beta's total packing_charge is 3766.0\n",
      "gamma's total pcking_charge is 2518.62\n"
     ]
    }
   ],
   "source": [
    "print(\"alpha's total packing_charge is\",alpha_data.packing_charge.sum())\n",
    "print(\"beta's total packing_charge is\",beta_data.packing_charge.sum())\n",
    "print(\"gamma's total pcking_charge is\",gamma_data.packing_charge.sum())"
   ]
  },
  {
   "cell_type": "markdown",
   "metadata": {},
   "source": [
    "Repeated Restaurent Counts"
   ]
  },
  {
   "cell_type": "code",
   "execution_count": 36,
   "metadata": {},
   "outputs": [
    {
     "name": "stdout",
     "output_type": "stream",
     "text": [
      "23857\n",
      "8801\n",
      "1918\n"
     ]
    }
   ],
   "source": [
    "print(alpha_data.restaurant.count())\n",
    "print(beta_data.restaurant.count())\n",
    "print(gamma_data.restaurant.count())"
   ]
  },
  {
   "cell_type": "markdown",
   "metadata": {},
   "source": [
    "From above calculations we can say that alpha is earning high range of price compare to beta and gamma, to increase the gamma insights price we need to increase the delivary restaurants of gamma's company. the count of gammas restaurants is very less compare to  aplha and beta."
   ]
  },
  {
   "cell_type": "markdown",
   "metadata": {},
   "source": [
    "Unique Restaurant Counts."
   ]
  },
  {
   "cell_type": "code",
   "execution_count": 44,
   "metadata": {},
   "outputs": [
    {
     "name": "stdout",
     "output_type": "stream",
     "text": [
      "7578\n",
      "3233\n",
      "1009\n"
     ]
    }
   ],
   "source": [
    "print(alpha_data.restaurant.nunique())\n",
    "print(beta_data.restaurant.nunique())\n",
    "print(gamma_data.restaurant.nunique())"
   ]
  },
  {
   "cell_type": "code",
   "execution_count": null,
   "metadata": {},
   "outputs": [],
   "source": []
  },
  {
   "cell_type": "code",
   "execution_count": null,
   "metadata": {},
   "outputs": [],
   "source": [
    "#the delivery charge of gamma is in second place if we reduces the delivery charges we can save the money"
   ]
  },
  {
   "cell_type": "code",
   "execution_count": null,
   "metadata": {},
   "outputs": [],
   "source": [
    "total number of districts of each company."
   ]
  },
  {
   "cell_type": "code",
   "execution_count": 40,
   "metadata": {},
   "outputs": [
    {
     "data": {
      "text/plain": [
       "155"
      ]
     },
     "execution_count": 40,
     "metadata": {},
     "output_type": "execute_result"
    }
   ],
   "source": [
    "alpha_data.district.nunique()"
   ]
  },
  {
   "cell_type": "markdown",
   "metadata": {},
   "source": [
    "Visualzation of State,Pricepaid of alpha,beta and gamma"
   ]
  },
  {
   "cell_type": "code",
   "execution_count": 51,
   "metadata": {},
   "outputs": [
    {
     "data": {
      "text/plain": [
       "<matplotlib.axes._subplots.AxesSubplot at 0x1bdb97ff128>"
      ]
     },
     "execution_count": 51,
     "metadata": {},
     "output_type": "execute_result"
    },
    {
     "data": {
      "image/png": "[encoded data removed]",
      "text/plain": [
       "<Figure size 1152x432 with 1 Axes>"
      ]
     },
     "metadata": {
      "needs_background": "light"
     },
     "output_type": "display_data"
    }
   ],
   "source": [
    "import seaborn as sns\n",
    "import matplotlib.pyplot as plt\n",
    "plt.figure(figsize=(16, 6))\n",
    "sns.barplot(x='price_paid',y='state',data=alpha_data)"
   ]
  },
  {
   "cell_type": "markdown",
   "metadata": {},
   "source": [
    "From the Above chart we can conclude that most of customers ordered food from KARNATAKA,TAMILNADU,GOA,ASSAM\n",
    "This fig belongs to alpha company."
   ]
  },
  {
   "cell_type": "code",
   "execution_count": 53,
   "metadata": {},
   "outputs": [
    {
     "data": {
      "text/plain": [
       "<matplotlib.axes._subplots.AxesSubplot at 0x1bdb99c8080>"
      ]
     },
     "execution_count": 53,
     "metadata": {},
     "output_type": "execute_result"
    },
    {
     "data": {
      "image/png": "[encoded data removed]",
      "text/plain": [
       "<Figure size 1152x432 with 1 Axes>"
      ]
     },
     "metadata": {
      "needs_background": "light"
     },
     "output_type": "display_data"
    }
   ],
   "source": [
    "plt.figure(figsize=(16, 6))\n",
    "sns.barplot(x='price_paid',y='state',data=beta_data)"
   ]
  },
  {
   "cell_type": "code",
   "execution_count": null,
   "metadata": {},
   "outputs": [],
   "source": [
    "From the Above chart we can conclude that most of customers ordered food from TAMILNADU,KARNATAKA,KERALA,HARYANA and\n",
    "This fig belongs to beta company"
   ]
  },
  {
   "cell_type": "code",
   "execution_count": 54,
   "metadata": {},
   "outputs": [
    {
     "data": {
      "text/plain": [
       "<matplotlib.axes._subplots.AxesSubplot at 0x1bdb990c278>"
      ]
     },
     "execution_count": 54,
     "metadata": {},
     "output_type": "execute_result"
    },
    {
     "data": {
      "image/png": "[encoded data removed]",
      "text/plain": [
       "<Figure size 1152x432 with 1 Axes>"
      ]
     },
     "metadata": {
      "needs_background": "light"
     },
     "output_type": "display_data"
    }
   ],
   "source": [
    "plt.figure(figsize=(16, 6))\n",
    "sns.barplot(x='price_paid',y='state',data=gamma_data)"
   ]
  },
  {
   "cell_type": "markdown",
   "metadata": {},
   "source": [
    "From the Above chart we can conclude that most of customers ordered food from UTTARAKHAND,GUJARAT.\n",
    "This chart is for gamma company"
   ]
  },
  {
   "cell_type": "markdown",
   "metadata": {},
   "source": []
  },
  {
   "cell_type": "markdown",
   "metadata": {},
   "source": [
    "Visualzation of Zone and Price Paid"
   ]
  },
  {
   "cell_type": "code",
   "execution_count": 58,
   "metadata": {},
   "outputs": [
    {
     "data": {
      "text/plain": [
       "<matplotlib.axes._subplots.AxesSubplot at 0x1bdbad87908>"
      ]
     },
     "execution_count": 58,
     "metadata": {},
     "output_type": "execute_result"
    },
    {
     "data": {
      "image/png": "[encoded data removed]",
      "text/plain": [
       "<Figure size 720x288 with 1 Axes>"
      ]
     },
     "metadata": {
      "needs_background": "light"
     },
     "output_type": "display_data"
    }
   ],
   "source": [
    "plt.figure(figsize=(10, 4))\n",
    "sns.barplot(x='price_paid',y='zone',data=alpha_data)"
   ]
  },
  {
   "cell_type": "code",
   "execution_count": null,
   "metadata": {},
   "outputs": [],
   "source": []
  },
  {
   "cell_type": "code",
   "execution_count": 59,
   "metadata": {},
   "outputs": [
    {
     "data": {
      "text/plain": [
       "<matplotlib.axes._subplots.AxesSubplot at 0x1bdb978a7b8>"
      ]
     },
     "execution_count": 59,
     "metadata": {},
     "output_type": "execute_result"
    },
    {
     "data": {
      "image/png": "[encoded data removed]",
      "text/plain": [
       "<Figure size 720x288 with 1 Axes>"
      ]
     },
     "metadata": {
      "needs_background": "light"
     },
     "output_type": "display_data"
    }
   ],
   "source": [
    "plt.figure(figsize=(10, 4))\n",
    "sns.barplot(x='price_paid',y='zone',data=beta_data)"
   ]
  },
  {
   "cell_type": "code",
   "execution_count": 60,
   "metadata": {},
   "outputs": [
    {
     "data": {
      "text/plain": [
       "<matplotlib.axes._subplots.AxesSubplot at 0x1bdbb4ee0f0>"
      ]
     },
     "execution_count": 60,
     "metadata": {},
     "output_type": "execute_result"
    },
    {
     "data": {
      "image/png": "[encoded data removed]",
      "text/plain": [
       "<Figure size 720x288 with 1 Axes>"
      ]
     },
     "metadata": {
      "needs_background": "light"
     },
     "output_type": "display_data"
    }
   ],
   "source": [
    "plt.figure(figsize=(10, 4))\n",
    "sns.barplot(x='price_paid',y='zone',data=gamma_data)"
   ]
  },
  {
   "cell_type": "markdown",
   "metadata": {},
   "source": [
    "From above 3 charts we can conclude that Most of the customers ordered food South Zone."
   ]
  },
  {
   "cell_type": "markdown",
   "metadata": {},
   "source": [
    "Working On Date Column and Price_Paid column"
   ]
  },
  {
   "cell_type": "code",
   "execution_count": 71,
   "metadata": {},
   "outputs": [
    {
     "data": {
      "image/png": "[encoded data removed]",
      "text/plain": [
       "<Figure size 576x252 with 1 Axes>"
      ]
     },
     "metadata": {
      "needs_background": "light"
     },
     "output_type": "display_data"
    }
   ],
   "source": [
    "df2 = alpha_data[['price_paid','date']].set_index('date').resample('M').plot()"
   ]
  },
  {
   "cell_type": "code",
   "execution_count": 69,
   "metadata": {},
   "outputs": [
    {
     "name": "stdout",
     "output_type": "stream",
     "text": [
      "AxesSubplot(0.125,0.125;0.775x0.755)\n",
      "                                      price_paid\n",
      "date                                            \n",
      "2019-01-31  AxesSubplot(0.125,0.125;0.775x0.755)\n",
      "2019-02-28  AxesSubplot(0.125,0.125;0.775x0.755)\n",
      "2019-03-31  AxesSubplot(0.125,0.125;0.775x0.755)\n",
      "2019-04-30  AxesSubplot(0.125,0.125;0.775x0.755)\n",
      "2019-05-31  AxesSubplot(0.125,0.125;0.775x0.755)\n",
      "2019-06-30  AxesSubplot(0.125,0.125;0.775x0.755)\n"
     ]
    },
    {
     "data": {
      "image/png": "[encoded data removed]",
      "text/plain": [
       "<Figure size 576x252 with 1 Axes>"
      ]
     },
     "metadata": {
      "needs_background": "light"
     },
     "output_type": "display_data"
    }
   ],
   "source": [
    "print(beta_data[['price_paid','date']].set_index('date').resample('M').mean().plot())\n",
    "print(beta_data[['price_paid','date']].set_index('date').resample('M').plot())"
   ]
  },
  {
   "cell_type": "code",
   "execution_count": 72,
   "metadata": {},
   "outputs": [
    {
     "data": {
      "text/html": [
       "<div>\n",
       "<style scoped>\n",
       "    .dataframe tbody tr th:only-of-type {\n",
       "        vertical-align: middle;\n",
       "    }\n",
       "\n",
       "    .dataframe tbody tr th {\n",
       "        vertical-align: top;\n",
       "    }\n",
       "\n",
       "    .dataframe thead th {\n",
       "        text-align: right;\n",
       "    }\n",
       "</style>\n",
       "<table border=\"1\" class=\"dataframe\">\n",
       "  <thead>\n",
       "    <tr style=\"text-align: right;\">\n",
       "      <th></th>\n",
       "      <th>price_paid</th>\n",
       "    </tr>\n",
       "    <tr>\n",
       "      <th>date</th>\n",
       "      <th></th>\n",
       "    </tr>\n",
       "  </thead>\n",
       "  <tbody>\n",
       "    <tr>\n",
       "      <th>2019-01-31</th>\n",
       "      <td>AxesSubplot(0.125,0.2;0.775x0.68)</td>\n",
       "    </tr>\n",
       "    <tr>\n",
       "      <th>2019-02-28</th>\n",
       "      <td>AxesSubplot(0.125,0.2;0.775x0.68)</td>\n",
       "    </tr>\n",
       "    <tr>\n",
       "      <th>2019-03-31</th>\n",
       "      <td>AxesSubplot(0.125,0.2;0.775x0.68)</td>\n",
       "    </tr>\n",
       "    <tr>\n",
       "      <th>2019-04-30</th>\n",
       "      <td>AxesSubplot(0.125,0.2;0.775x0.68)</td>\n",
       "    </tr>\n",
       "    <tr>\n",
       "      <th>2019-05-31</th>\n",
       "      <td>AxesSubplot(0.125,0.2;0.775x0.68)</td>\n",
       "    </tr>\n",
       "    <tr>\n",
       "      <th>2019-06-30</th>\n",
       "      <td>AxesSubplot(0.125,0.2;0.775x0.68)</td>\n",
       "    </tr>\n",
       "  </tbody>\n",
       "</table>\n",
       "</div>"
      ],
      "text/plain": [
       "                                   price_paid\n",
       "date                                         \n",
       "2019-01-31  AxesSubplot(0.125,0.2;0.775x0.68)\n",
       "2019-02-28  AxesSubplot(0.125,0.2;0.775x0.68)\n",
       "2019-03-31  AxesSubplot(0.125,0.2;0.775x0.68)\n",
       "2019-04-30  AxesSubplot(0.125,0.2;0.775x0.68)\n",
       "2019-05-31  AxesSubplot(0.125,0.2;0.775x0.68)\n",
       "2019-06-30  AxesSubplot(0.125,0.2;0.775x0.68)"
      ]
     },
     "execution_count": 72,
     "metadata": {},
     "output_type": "execute_result"
    },
    {
     "data": {
      "image/png": "[encoded data removed]",
      "text/plain": [
       "<Figure size 576x252 with 1 Axes>"
      ]
     },
     "metadata": {
      "needs_background": "light"
     },
     "output_type": "display_data"
    }
   ],
   "source": [
    "gamma_data[['price_paid','date']].set_index('date').resample('M').plot()"
   ]
  },
  {
   "cell_type": "code",
   "execution_count": 73,
   "metadata": {},
   "outputs": [
    {
     "data": {
      "text/plain": [
       "<matplotlib.axes._subplots.AxesSubplot at 0x1bdb9b7e0b8>"
      ]
     },
     "execution_count": 73,
     "metadata": {},
     "output_type": "execute_result"
    },
    {
     "data": {
      "image/png": "[encoded data removed]",
      "text/plain": [
       "<Figure size 576x252 with 1 Axes>"
      ]
     },
     "metadata": {
      "needs_background": "light"
     },
     "output_type": "display_data"
    }
   ],
   "source": [
    " #Mean Value Visualization for date column\n",
    "gamma_data[['price_paid','date']].set_index('date').resample('M').mean().plot()"
   ]
  },
  {
   "cell_type": "code",
   "execution_count": null,
   "metadata": {},
   "outputs": [],
   "source": []
  }
 ],
 "metadata": {
  "kernelspec": {
   "display_name": "Python 3",
   "language": "python",
   "name": "python3"
  },
  "language_info": {
   "codemirror_mode": {
    "name": "ipython",
    "version": 3
   },
   "file_extension": ".py",
   "mimetype": "text/x-python",
   "name": "python",
   "nbconvert_exporter": "python",
   "pygments_lexer": "ipython3",
   "version": "3.6.4"
  }
 },
 "nbformat": 4,
 "nbformat_minor": 2
}
